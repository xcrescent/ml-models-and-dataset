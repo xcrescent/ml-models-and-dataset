{
 "cells": [
  {
   "cell_type": "code",
   "execution_count": 5,
   "metadata": {},
   "outputs": [
    {
     "name": "stderr",
     "output_type": "stream",
     "text": [
      "'apt' is not recognized as an internal or external command,\n",
      "operable program or batch file.\n"
     ]
    },
    {
     "name": "stdout",
     "output_type": "stream",
     "text": [
      "Note: you may need to restart the kernel to use updated packages.\n"
     ]
    },
    {
     "name": "stderr",
     "output_type": "stream",
     "text": [
      "WARNING: Error parsing requirements for urllib3: [Errno 2] No such file or directory: 'c:\\\\users\\\\usjad\\\\anaconda3\\\\envs\\\\first37\\\\lib\\\\site-packages\\\\urllib3-1.26.11.dist-info\\\\METADATA'\n",
      "WARNING: Error parsing requirements for flatbuffers: [Errno 2] No such file or directory: 'c:\\\\users\\\\usjad\\\\anaconda3\\\\envs\\\\first37\\\\lib\\\\site-packages\\\\flatbuffers-2.0.dist-info\\\\METADATA'\n",
      "    WARNING: No metadata found in c:\\users\\usjad\\anaconda3\\envs\\first37\\lib\\site-packages\n",
      "    WARNING: No metadata found in c:\\users\\usjad\\anaconda3\\envs\\first37\\lib\\site-packages\n",
      "    WARNING: No metadata found in c:\\users\\usjad\\anaconda3\\envs\\first37\\lib\\site-packages\n",
      "    WARNING: No metadata found in c:\\users\\usjad\\anaconda3\\envs\\first37\\lib\\site-packages\n",
      "    WARNING: No metadata found in c:\\users\\usjad\\anaconda3\\envs\\first37\\lib\\site-packages\n",
      "    WARNING: No metadata found in c:\\users\\usjad\\anaconda3\\envs\\first37\\lib\\site-packages\n",
      "    WARNING: No metadata found in c:\\users\\usjad\\anaconda3\\envs\\first37\\lib\\site-packages\n",
      "    WARNING: No metadata found in c:\\users\\usjad\\anaconda3\\envs\\first37\\lib\\site-packages\n",
      "    WARNING: No metadata found in c:\\users\\usjad\\anaconda3\\envs\\first37\\lib\\site-packages\n",
      "    WARNING: No metadata found in c:\\users\\usjad\\anaconda3\\envs\\first37\\lib\\site-packages\n",
      "    WARNING: No metadata found in c:\\users\\usjad\\anaconda3\\envs\\first37\\lib\\site-packages\n",
      "    WARNING: No metadata found in c:\\users\\usjad\\anaconda3\\envs\\first37\\lib\\site-packages\n",
      "    WARNING: No metadata found in c:\\users\\usjad\\anaconda3\\envs\\first37\\lib\\site-packages\n",
      "    WARNING: No metadata found in c:\\users\\usjad\\anaconda3\\envs\\first37\\lib\\site-packages\n",
      "    WARNING: No metadata found in c:\\users\\usjad\\anaconda3\\envs\\first37\\lib\\site-packages\n",
      "    WARNING: No metadata found in c:\\users\\usjad\\anaconda3\\envs\\first37\\lib\\site-packages\n",
      "    WARNING: No metadata found in c:\\users\\usjad\\anaconda3\\envs\\first37\\lib\\site-packages\n",
      "    WARNING: No metadata found in c:\\users\\usjad\\anaconda3\\envs\\first37\\lib\\site-packages\n"
     ]
    }
   ],
   "source": [
    "!apt install libportaudio2\n",
    "%pip install -q tflite-model-maker"
   ]
  },
  {
   "cell_type": "code",
   "execution_count": null,
   "metadata": {},
   "outputs": [],
   "source": [
    "import matplotlib.pyplot as plt\n",
    "from tflite_model_maker.image_classifier import DataLoader\n",
    "from tflite_model_maker.config import QuantizationConfig\n",
    "from tflite_model_maker.config import ExportFormat\n",
    "from tflite_model_maker import image_classifier\n",
    "from tflite_model_maker import model_spec\n",
    "import os\n",
    "\n",
    "import numpy as np\n",
    "\n",
    "import tensorflow as tf\n",
    "assert tf.__version__.startswith('2')\n"
   ]
  }
 ],
 "metadata": {
  "kernelspec": {
   "display_name": "first37",
   "language": "python",
   "name": "python3"
  },
  "language_info": {
   "codemirror_mode": {
    "name": "ipython",
    "version": 3
   },
   "file_extension": ".py",
   "mimetype": "text/x-python",
   "name": "python",
   "nbconvert_exporter": "python",
   "pygments_lexer": "ipython3",
   "version": "3.7.13"
  },
  "orig_nbformat": 4
 },
 "nbformat": 4,
 "nbformat_minor": 2
}
